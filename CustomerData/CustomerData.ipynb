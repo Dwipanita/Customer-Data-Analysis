{
  "nbformat": 4,
  "nbformat_minor": 0,
  "metadata": {
    "colab": {
      "name": "CustomerData.ipynb",
      "provenance": [],
      "collapsed_sections": []
    },
    "kernelspec": {
      "name": "python3",
      "display_name": "Python 3"
    },
    "language_info": {
      "name": "python"
    }
  },
  "cells": [
    {
      "cell_type": "code",
      "execution_count": 1,
      "metadata": {
        "colab": {
          "base_uri": "https://localhost:8080/"
        },
        "id": "MlYKDRr4rw01",
        "outputId": "6e02a791-6a35-468a-d1d3-deb55f9d1237"
      },
      "outputs": [
        {
          "output_type": "stream",
          "name": "stdout",
          "text": [
            "Mounted at /content/drive\n"
          ]
        }
      ],
      "source": [
        "from google.colab import drive\n",
        "drive.mount('/content/drive')"
      ]
    },
    {
      "cell_type": "code",
      "source": [
        "import numpy as np\n",
        "import pandas as pd\n",
        "from matplotlib import pyplot as plt\n",
        "%matplotlib inline\n",
        "import seaborn as sns\n",
        "import statsmodels.api as sm\n",
        "import scipy.stats as stats\n",
        "import copy\n",
        "import os\n",
        "import statistics"
      ],
      "metadata": {
        "id": "oxi49mgUry8a"
      },
      "execution_count": 2,
      "outputs": []
    },
    {
      "cell_type": "markdown",
      "source": [
        "#Ans 1"
      ],
      "metadata": {
        "id": "k6IAFmXGr7FC"
      }
    },
    {
      "cell_type": "code",
      "source": [
        "Path= \"/content/drive/MyDrive/Wholesale+Customers+Data.csv\"\n",
        "CustomerData= pd.read_csv(Path)"
      ],
      "metadata": {
        "id": "wnlk17Z0r02B"
      },
      "execution_count": 3,
      "outputs": []
    },
    {
      "cell_type": "code",
      "source": [
        "CustomerData.head()"
      ],
      "metadata": {
        "id": "TevRYXHSr2gs"
      },
      "execution_count": null,
      "outputs": []
    },
    {
      "cell_type": "markdown",
      "source": [
        "##Ans 1.1.1"
      ],
      "metadata": {
        "id": "l7jKkZwjsLDV"
      }
    },
    {
      "cell_type": "code",
      "source": [
        "CustomerData.describe()"
      ],
      "metadata": {
        "colab": {
          "base_uri": "https://localhost:8080/",
          "height": 300
        },
        "id": "IOUKEy6_r2j1",
        "outputId": "fb020bb3-b624-4fbb-83c2-815f618d4f8f"
      },
      "execution_count": 4,
      "outputs": [
        {
          "output_type": "execute_result",
          "data": {
            "text/plain": [
              "       Buyer/Spender          Fresh          Milk       Grocery        Frozen  \\\n",
              "count     440.000000     440.000000    440.000000    440.000000    440.000000   \n",
              "mean      220.500000   12000.297727   5796.265909   7951.277273   3071.931818   \n",
              "std       127.161315   12647.328865   7380.377175   9503.162829   4854.673333   \n",
              "min         1.000000       3.000000     55.000000      3.000000     25.000000   \n",
              "25%       110.750000    3127.750000   1533.000000   2153.000000    742.250000   \n",
              "50%       220.500000    8504.000000   3627.000000   4755.500000   1526.000000   \n",
              "75%       330.250000   16933.750000   7190.250000  10655.750000   3554.250000   \n",
              "max       440.000000  112151.000000  73498.000000  92780.000000  60869.000000   \n",
              "\n",
              "       Detergents_Paper  Delicatessen  \n",
              "count        440.000000    440.000000  \n",
              "mean        2881.493182   1524.870455  \n",
              "std         4767.854448   2820.105937  \n",
              "min            3.000000      3.000000  \n",
              "25%          256.750000    408.250000  \n",
              "50%          816.500000    965.500000  \n",
              "75%         3922.000000   1820.250000  \n",
              "max        40827.000000  47943.000000  "
            ],
            "text/html": [
              "\n",
              "  <div id=\"df-a232d1fb-7ef1-4085-b3a4-ba52437e9a4e\">\n",
              "    <div class=\"colab-df-container\">\n",
              "      <div>\n",
              "<style scoped>\n",
              "    .dataframe tbody tr th:only-of-type {\n",
              "        vertical-align: middle;\n",
              "    }\n",
              "\n",
              "    .dataframe tbody tr th {\n",
              "        vertical-align: top;\n",
              "    }\n",
              "\n",
              "    .dataframe thead th {\n",
              "        text-align: right;\n",
              "    }\n",
              "</style>\n",
              "<table border=\"1\" class=\"dataframe\">\n",
              "  <thead>\n",
              "    <tr style=\"text-align: right;\">\n",
              "      <th></th>\n",
              "      <th>Buyer/Spender</th>\n",
              "      <th>Fresh</th>\n",
              "      <th>Milk</th>\n",
              "      <th>Grocery</th>\n",
              "      <th>Frozen</th>\n",
              "      <th>Detergents_Paper</th>\n",
              "      <th>Delicatessen</th>\n",
              "    </tr>\n",
              "  </thead>\n",
              "  <tbody>\n",
              "    <tr>\n",
              "      <th>count</th>\n",
              "      <td>440.000000</td>\n",
              "      <td>440.000000</td>\n",
              "      <td>440.000000</td>\n",
              "      <td>440.000000</td>\n",
              "      <td>440.000000</td>\n",
              "      <td>440.000000</td>\n",
              "      <td>440.000000</td>\n",
              "    </tr>\n",
              "    <tr>\n",
              "      <th>mean</th>\n",
              "      <td>220.500000</td>\n",
              "      <td>12000.297727</td>\n",
              "      <td>5796.265909</td>\n",
              "      <td>7951.277273</td>\n",
              "      <td>3071.931818</td>\n",
              "      <td>2881.493182</td>\n",
              "      <td>1524.870455</td>\n",
              "    </tr>\n",
              "    <tr>\n",
              "      <th>std</th>\n",
              "      <td>127.161315</td>\n",
              "      <td>12647.328865</td>\n",
              "      <td>7380.377175</td>\n",
              "      <td>9503.162829</td>\n",
              "      <td>4854.673333</td>\n",
              "      <td>4767.854448</td>\n",
              "      <td>2820.105937</td>\n",
              "    </tr>\n",
              "    <tr>\n",
              "      <th>min</th>\n",
              "      <td>1.000000</td>\n",
              "      <td>3.000000</td>\n",
              "      <td>55.000000</td>\n",
              "      <td>3.000000</td>\n",
              "      <td>25.000000</td>\n",
              "      <td>3.000000</td>\n",
              "      <td>3.000000</td>\n",
              "    </tr>\n",
              "    <tr>\n",
              "      <th>25%</th>\n",
              "      <td>110.750000</td>\n",
              "      <td>3127.750000</td>\n",
              "      <td>1533.000000</td>\n",
              "      <td>2153.000000</td>\n",
              "      <td>742.250000</td>\n",
              "      <td>256.750000</td>\n",
              "      <td>408.250000</td>\n",
              "    </tr>\n",
              "    <tr>\n",
              "      <th>50%</th>\n",
              "      <td>220.500000</td>\n",
              "      <td>8504.000000</td>\n",
              "      <td>3627.000000</td>\n",
              "      <td>4755.500000</td>\n",
              "      <td>1526.000000</td>\n",
              "      <td>816.500000</td>\n",
              "      <td>965.500000</td>\n",
              "    </tr>\n",
              "    <tr>\n",
              "      <th>75%</th>\n",
              "      <td>330.250000</td>\n",
              "      <td>16933.750000</td>\n",
              "      <td>7190.250000</td>\n",
              "      <td>10655.750000</td>\n",
              "      <td>3554.250000</td>\n",
              "      <td>3922.000000</td>\n",
              "      <td>1820.250000</td>\n",
              "    </tr>\n",
              "    <tr>\n",
              "      <th>max</th>\n",
              "      <td>440.000000</td>\n",
              "      <td>112151.000000</td>\n",
              "      <td>73498.000000</td>\n",
              "      <td>92780.000000</td>\n",
              "      <td>60869.000000</td>\n",
              "      <td>40827.000000</td>\n",
              "      <td>47943.000000</td>\n",
              "    </tr>\n",
              "  </tbody>\n",
              "</table>\n",
              "</div>\n",
              "      <button class=\"colab-df-convert\" onclick=\"convertToInteractive('df-a232d1fb-7ef1-4085-b3a4-ba52437e9a4e')\"\n",
              "              title=\"Convert this dataframe to an interactive table.\"\n",
              "              style=\"display:none;\">\n",
              "        \n",
              "  <svg xmlns=\"http://www.w3.org/2000/svg\" height=\"24px\"viewBox=\"0 0 24 24\"\n",
              "       width=\"24px\">\n",
              "    <path d=\"M0 0h24v24H0V0z\" fill=\"none\"/>\n",
              "    <path d=\"M18.56 5.44l.94 2.06.94-2.06 2.06-.94-2.06-.94-.94-2.06-.94 2.06-2.06.94zm-11 1L8.5 8.5l.94-2.06 2.06-.94-2.06-.94L8.5 2.5l-.94 2.06-2.06.94zm10 10l.94 2.06.94-2.06 2.06-.94-2.06-.94-.94-2.06-.94 2.06-2.06.94z\"/><path d=\"M17.41 7.96l-1.37-1.37c-.4-.4-.92-.59-1.43-.59-.52 0-1.04.2-1.43.59L10.3 9.45l-7.72 7.72c-.78.78-.78 2.05 0 2.83L4 21.41c.39.39.9.59 1.41.59.51 0 1.02-.2 1.41-.59l7.78-7.78 2.81-2.81c.8-.78.8-2.07 0-2.86zM5.41 20L4 18.59l7.72-7.72 1.47 1.35L5.41 20z\"/>\n",
              "  </svg>\n",
              "      </button>\n",
              "      \n",
              "  <style>\n",
              "    .colab-df-container {\n",
              "      display:flex;\n",
              "      flex-wrap:wrap;\n",
              "      gap: 12px;\n",
              "    }\n",
              "\n",
              "    .colab-df-convert {\n",
              "      background-color: #E8F0FE;\n",
              "      border: none;\n",
              "      border-radius: 50%;\n",
              "      cursor: pointer;\n",
              "      display: none;\n",
              "      fill: #1967D2;\n",
              "      height: 32px;\n",
              "      padding: 0 0 0 0;\n",
              "      width: 32px;\n",
              "    }\n",
              "\n",
              "    .colab-df-convert:hover {\n",
              "      background-color: #E2EBFA;\n",
              "      box-shadow: 0px 1px 2px rgba(60, 64, 67, 0.3), 0px 1px 3px 1px rgba(60, 64, 67, 0.15);\n",
              "      fill: #174EA6;\n",
              "    }\n",
              "\n",
              "    [theme=dark] .colab-df-convert {\n",
              "      background-color: #3B4455;\n",
              "      fill: #D2E3FC;\n",
              "    }\n",
              "\n",
              "    [theme=dark] .colab-df-convert:hover {\n",
              "      background-color: #434B5C;\n",
              "      box-shadow: 0px 1px 3px 1px rgba(0, 0, 0, 0.15);\n",
              "      filter: drop-shadow(0px 1px 2px rgba(0, 0, 0, 0.3));\n",
              "      fill: #FFFFFF;\n",
              "    }\n",
              "  </style>\n",
              "\n",
              "      <script>\n",
              "        const buttonEl =\n",
              "          document.querySelector('#df-a232d1fb-7ef1-4085-b3a4-ba52437e9a4e button.colab-df-convert');\n",
              "        buttonEl.style.display =\n",
              "          google.colab.kernel.accessAllowed ? 'block' : 'none';\n",
              "\n",
              "        async function convertToInteractive(key) {\n",
              "          const element = document.querySelector('#df-a232d1fb-7ef1-4085-b3a4-ba52437e9a4e');\n",
              "          const dataTable =\n",
              "            await google.colab.kernel.invokeFunction('convertToInteractive',\n",
              "                                                     [key], {});\n",
              "          if (!dataTable) return;\n",
              "\n",
              "          const docLinkHtml = 'Like what you see? Visit the ' +\n",
              "            '<a target=\"_blank\" href=https://colab.research.google.com/notebooks/data_table.ipynb>data table notebook</a>'\n",
              "            + ' to learn more about interactive tables.';\n",
              "          element.innerHTML = '';\n",
              "          dataTable['output_type'] = 'display_data';\n",
              "          await google.colab.output.renderOutput(dataTable, element);\n",
              "          const docLink = document.createElement('div');\n",
              "          docLink.innerHTML = docLinkHtml;\n",
              "          element.appendChild(docLink);\n",
              "        }\n",
              "      </script>\n",
              "    </div>\n",
              "  </div>\n",
              "  "
            ]
          },
          "metadata": {},
          "execution_count": 4
        }
      ]
    },
    {
      "cell_type": "code",
      "source": [
        "CustomerData.hist(figsize=(20,30));"
      ],
      "metadata": {
        "colab": {
          "base_uri": "https://localhost:8080/",
          "height": 1000
        },
        "id": "6FLurtp7r2oR",
        "outputId": "21c6a92d-e760-42ce-a715-515ca9303e0c"
      },
      "execution_count": 5,
      "outputs": [
        {
          "output_type": "display_data",
          "data": {
            "text/plain": [
              "<Figure size 1440x2160 with 9 Axes>"
            ],
            "image/png": "[encoded data removed]"
          },
          "metadata": {
            "needs_background": "light"
          }
        }
      ]
    },
    {
      "cell_type": "markdown",
      "source": [
        "##Ans 1.1.2"
      ],
      "metadata": {
        "id": "LdSskO9vsQje"
      }
    },
    {
      "cell_type": "code",
      "source": [
        "plt.figure(figsize=(10,5))\n",
        "sns.countplot(data=CustomerData,x='Region')\n",
        "plt.xticks(rotation=90);"
      ],
      "metadata": {
        "colab": {
          "base_uri": "https://localhost:8080/",
          "height": 358
        },
        "id": "Y8MjVGxOr2s6",
        "outputId": "12200b2d-297c-4aad-e4ba-8eb123f0febd"
      },
      "execution_count": 6,
      "outputs": [
        {
          "output_type": "display_data",
          "data": {
            "text/plain": [
              "<Figure size 720x360 with 1 Axes>"
            ],
            "image/png": "[encoded data removed]"
          },
          "metadata": {
            "needs_background": "light"
          }
        }
      ]
    },
    {
      "cell_type": "code",
      "source": [
        "plt.figure(figsize=(7,5))\n",
        "sns.countplot(data=CustomerData,x='Channel')\n",
        "plt.xticks(rotation=90);"
      ],
      "metadata": {
        "colab": {
          "base_uri": "https://localhost:8080/",
          "height": 352
        },
        "id": "HXeB5XdmsSlb",
        "outputId": "7cfe507f-b40a-4d50-8ab5-ff1de1f3848d"
      },
      "execution_count": 7,
      "outputs": [
        {
          "output_type": "display_data",
          "data": {
            "text/plain": [
              "<Figure size 504x360 with 1 Axes>"
            ],
            "image/png": "[encoded data removed]"
          },
          "metadata": {
            "needs_background": "light"
          }
        }
      ]
    },
    {
      "cell_type": "markdown",
      "source": [
        "###The region Other and the Channel Hotel spent the most."
      ],
      "metadata": {
        "id": "O4MTWYhZsdt_"
      }
    },
    {
      "cell_type": "markdown",
      "source": [
        "##Ans 1.1.3"
      ],
      "metadata": {
        "id": "zHZwX4hDsgTH"
      }
    },
    {
      "cell_type": "markdown",
      "source": [
        "### The region Oporto and the Channel Retail spent the least."
      ],
      "metadata": {
        "id": "9SdcjoSgskEu"
      }
    },
    {
      "cell_type": "markdown",
      "source": [
        "##Ans 1.2"
      ],
      "metadata": {
        "id": "mMFsl7jksmR2"
      }
    },
    {
      "cell_type": "code",
      "source": [
        "CustomerData.groupby(['Channel']).describe().T"
      ],
      "metadata": {
        "colab": {
          "base_uri": "https://localhost:8080/",
          "height": 1000
        },
        "id": "C64aB1z_spGv",
        "outputId": "16e882ee-7531-418d-d374-2153eb4f15a7"
      },
      "execution_count": 8,
      "outputs": [
        {
          "output_type": "execute_result",
          "data": {
            "text/plain": [
              "Channel                         Hotel        Retail\n",
              "Buyer/Spender    count     298.000000    142.000000\n",
              "                 mean      238.369128    183.000000\n",
              "                 std       120.910343    132.136132\n",
              "                 min         4.000000      1.000000\n",
              "                 25%       137.250000     61.250000\n",
              "                 50%       241.500000    166.500000\n",
              "                 75%       344.500000    303.750000\n",
              "                 max       440.000000    438.000000\n",
              "Fresh            count     298.000000    142.000000\n",
              "                 mean    13475.560403   8904.323944\n",
              "                 std     13831.687502   8987.714750\n",
              "                 min         3.000000     18.000000\n",
              "                 25%      4070.250000   2347.750000\n",
              "                 50%      9581.500000   5993.500000\n",
              "                 75%     18274.750000  12229.750000\n",
              "                 max    112151.000000  44466.000000\n",
              "Milk             count     298.000000    142.000000\n",
              "                 mean     3451.724832  10716.500000\n",
              "                 std      4352.165571   9679.631351\n",
              "                 min        55.000000    928.000000\n",
              "                 25%      1164.500000   5938.000000\n",
              "                 50%      2157.000000   7812.000000\n",
              "                 75%      4029.500000  12162.750000\n",
              "                 max     43950.000000  73498.000000\n",
              "Grocery          count     298.000000    142.000000\n",
              "                 mean     3962.137584  16322.852113\n",
              "                 std      3545.513391  12267.318094\n",
              "                 min         3.000000   2743.000000\n",
              "                 25%      1703.750000   9245.250000\n",
              "                 50%      2684.000000  12390.000000\n",
              "                 75%      5076.750000  20183.500000\n",
              "                 max     21042.000000  92780.000000\n",
              "Frozen           count     298.000000    142.000000\n",
              "                 mean     3748.251678   1652.612676\n",
              "                 std      5643.912500   1812.803662\n",
              "                 min        25.000000     33.000000\n",
              "                 25%       830.000000    534.250000\n",
              "                 50%      2057.500000   1081.000000\n",
              "                 75%      4558.750000   2146.750000\n",
              "                 max     60869.000000  11559.000000\n",
              "Detergents_Paper count     298.000000    142.000000\n",
              "                 mean      790.560403   7269.507042\n",
              "                 std      1104.093673   6291.089697\n",
              "                 min         3.000000    332.000000\n",
              "                 25%       183.250000   3683.500000\n",
              "                 50%       385.500000   5614.500000\n",
              "                 75%       899.500000   8662.500000\n",
              "                 max      6907.000000  40827.000000\n",
              "Delicatessen     count     298.000000    142.000000\n",
              "                 mean     1415.956376   1753.436620\n",
              "                 std      3147.426922   1953.797047\n",
              "                 min         3.000000      3.000000\n",
              "                 25%       379.000000    566.750000\n",
              "                 50%       821.000000   1350.000000\n",
              "                 75%      1548.000000   2156.000000\n",
              "                 max     47943.000000  16523.000000"
            ],
            "text/html": [
              "\n",
              "  <div id=\"df-066d5021-d403-43c2-9fe0-152e787d4a28\">\n",
              "    <div class=\"colab-df-container\">\n",
              "      <div>\n",
              "<style scoped>\n",
              "    .dataframe tbody tr th:only-of-type {\n",
              "        vertical-align: middle;\n",
              "    }\n",
              "\n",
              "    .dataframe tbody tr th {\n",
              "        vertical-align: top;\n",
              "    }\n",
              "\n",
              "    .dataframe thead th {\n",
              "        text-align: right;\n",
              "    }\n",
              "</style>\n",
              "<table border=\"1\" class=\"dataframe\">\n",
              "  <thead>\n",
              "    <tr style=\"text-align: right;\">\n",
              "      <th></th>\n",
              "      <th>Channel</th>\n",
              "      <th>Hotel</th>\n",
              "      <th>Retail</th>\n",
              "    </tr>\n",
              "  </thead>\n",
              "  <tbody>\n",
              "    <tr>\n",
              "      <th rowspan=\"8\" valign=\"top\">Buyer/Spender</th>\n",
              "      <th>count</th>\n",
              "      <td>298.000000</td>\n",
              "      <td>142.000000</td>\n",
              "    </tr>\n",
              "    <tr>\n",
              "      <th>mean</th>\n",
              "      <td>238.369128</td>\n",
              "      <td>183.000000</td>\n",
              "    </tr>\n",
              "    <tr>\n",
              "      <th>std</th>\n",
              "      <td>120.910343</td>\n",
              "      <td>132.136132</td>\n",
              "    </tr>\n",
              "    <tr>\n",
              "      <th>min</th>\n",
              "      <td>4.000000</td>\n",
              "      <td>1.000000</td>\n",
              "    </tr>\n",
              "    <tr>\n",
              "      <th>25%</th>\n",
              "      <td>137.250000</td>\n",
              "      <td>61.250000</td>\n",
              "    </tr>\n",
              "    <tr>\n",
              "      <th>50%</th>\n",
              "      <td>241.500000</td>\n",
              "      <td>166.500000</td>\n",
              "    </tr>\n",
              "    <tr>\n",
              "      <th>75%</th>\n",
              "      <td>344.500000</td>\n",
              "      <td>303.750000</td>\n",
              "    </tr>\n",
              "    <tr>\n",
              "      <th>max</th>\n",
              "      <td>440.000000</td>\n",
              "      <td>438.000000</td>\n",
              "    </tr>\n",
              "    <tr>\n",
              "      <th rowspan=\"8\" valign=\"top\">Fresh</th>\n",
              "      <th>count</th>\n",
              "      <td>298.000000</td>\n",
              "      <td>142.000000</td>\n",
              "    </tr>\n",
              "    <tr>\n",
              "      <th>mean</th>\n",
              "      <td>13475.560403</td>\n",
              "      <td>8904.323944</td>\n",
              "    </tr>\n",
              "    <tr>\n",
              "      <th>std</th>\n",
              "      <td>13831.687502</td>\n",
              "      <td>8987.714750</td>\n",
              "    </tr>\n",
              "    <tr>\n",
              "      <th>min</th>\n",
              "      <td>3.000000</td>\n",
              "      <td>18.000000</td>\n",
              "    </tr>\n",
              "    <tr>\n",
              "      <th>25%</th>\n",
              "      <td>4070.250000</td>\n",
              "      <td>2347.750000</td>\n",
              "    </tr>\n",
              "    <tr>\n",
              "      <th>50%</th>\n",
              "      <td>9581.500000</td>\n",
              "      <td>5993.500000</td>\n",
              "    </tr>\n",
              "    <tr>\n",
              "      <th>75%</th>\n",
              "      <td>18274.750000</td>\n",
              "      <td>12229.750000</td>\n",
              "    </tr>\n",
              "    <tr>\n",
              "      <th>max</th>\n",
              "      <td>112151.000000</td>\n",
              "      <td>44466.000000</td>\n",
              "    </tr>\n",
              "    <tr>\n",
              "      <th rowspan=\"8\" valign=\"top\">Milk</th>\n",
              "      <th>count</th>\n",
              "      <td>298.000000</td>\n",
              "      <td>142.000000</td>\n",
              "    </tr>\n",
              "    <tr>\n",
              "      <th>mean</th>\n",
              "      <td>3451.724832</td>\n",
              "      <td>10716.500000</td>\n",
              "    </tr>\n",
              "    <tr>\n",
              "      <th>std</th>\n",
              "      <td>4352.165571</td>\n",
              "      <td>9679.631351</td>\n",
              "    </tr>\n",
              "    <tr>\n",
              "      <th>min</th>\n",
              "      <td>55.000000</td>\n",
              "      <td>928.000000</td>\n",
              "    </tr>\n",
              "    <tr>\n",
              "      <th>25%</th>\n",
              "      <td>1164.500000</td>\n",
              "      <td>5938.000000</td>\n",
              "    </tr>\n",
              "    <tr>\n",
              "      <th>50%</th>\n",
              "      <td>2157.000000</td>\n",
              "      <td>7812.000000</td>\n",
              "    </tr>\n",
              "    <tr>\n",
              "      <th>75%</th>\n",
              "      <td>4029.500000</td>\n",
              "      <td>12162.750000</td>\n",
              "    </tr>\n",
              "    <tr>\n",
              "      <th>max</th>\n",
              "      <td>43950.000000</td>\n",
              "      <td>73498.000000</td>\n",
              "    </tr>\n",
              "    <tr>\n",
              "      <th rowspan=\"8\" valign=\"top\">Grocery</th>\n",
              "      <th>count</th>\n",
              "      <td>298.000000</td>\n",
              "      <td>142.000000</td>\n",
              "    </tr>\n",
              "    <tr>\n",
              "      <th>mean</th>\n",
              "      <td>3962.137584</td>\n",
              "      <td>16322.852113</td>\n",
              "    </tr>\n",
              "    <tr>\n",
              "      <th>std</th>\n",
              "      <td>3545.513391</td>\n",
              "      <td>12267.318094</td>\n",
              "    </tr>\n",
              "    <tr>\n",
              "      <th>min</th>\n",
              "      <td>3.000000</td>\n",
              "      <td>2743.000000</td>\n",
              "    </tr>\n",
              "    <tr>\n",
              "      <th>25%</th>\n",
              "      <td>1703.750000</td>\n",
              "      <td>9245.250000</td>\n",
              "    </tr>\n",
              "    <tr>\n",
              "      <th>50%</th>\n",
              "      <td>2684.000000</td>\n",
              "      <td>12390.000000</td>\n",
              "    </tr>\n",
              "    <tr>\n",
              "      <th>75%</th>\n",
              "      <td>5076.750000</td>\n",
              "      <td>20183.500000</td>\n",
              "    </tr>\n",
              "    <tr>\n",
              "      <th>max</th>\n",
              "      <td>21042.000000</td>\n",
              "      <td>92780.000000</td>\n",
              "    </tr>\n",
              "    <tr>\n",
              "      <th rowspan=\"8\" valign=\"top\">Frozen</th>\n",
              "      <th>count</th>\n",
              "      <td>298.000000</td>\n",
              "      <td>142.000000</td>\n",
              "    </tr>\n",
              "    <tr>\n",
              "      <th>mean</th>\n",
              "      <td>3748.251678</td>\n",
              "      <td>1652.612676</td>\n",
              "    </tr>\n",
              "    <tr>\n",
              "      <th>std</th>\n",
              "      <td>5643.912500</td>\n",
              "      <td>1812.803662</td>\n",
              "    </tr>\n",
              "    <tr>\n",
              "      <th>min</th>\n",
              "      <td>25.000000</td>\n",
              "      <td>33.000000</td>\n",
              "    </tr>\n",
              "    <tr>\n",
              "      <th>25%</th>\n",
              "      <td>830.000000</td>\n",
              "      <td>534.250000</td>\n",
              "    </tr>\n",
              "    <tr>\n",
              "      <th>50%</th>\n",
              "      <td>2057.500000</td>\n",
              "      <td>1081.000000</td>\n",
              "    </tr>\n",
              "    <tr>\n",
              "      <th>75%</th>\n",
              "      <td>4558.750000</td>\n",
              "      <td>2146.750000</td>\n",
              "    </tr>\n",
              "    <tr>\n",
              "      <th>max</th>\n",
              "      <td>60869.000000</td>\n",
              "      <td>11559.000000</td>\n",
              "    </tr>\n",
              "    <tr>\n",
              "      <th rowspan=\"8\" valign=\"top\">Detergents_Paper</th>\n",
              "      <th>count</th>\n",
              "      <td>298.000000</td>\n",
              "      <td>142.000000</td>\n",
              "    </tr>\n",
              "    <tr>\n",
              "      <th>mean</th>\n",
              "      <td>790.560403</td>\n",
              "      <td>7269.507042</td>\n",
              "    </tr>\n",
              "    <tr>\n",
              "      <th>std</th>\n",
              "      <td>1104.093673</td>\n",
              "      <td>6291.089697</td>\n",
              "    </tr>\n",
              "    <tr>\n",
              "      <th>min</th>\n",
              "      <td>3.000000</td>\n",
              "      <td>332.000000</td>\n",
              "    </tr>\n",
              "    <tr>\n",
              "      <th>25%</th>\n",
              "      <td>183.250000</td>\n",
              "      <td>3683.500000</td>\n",
              "    </tr>\n",
              "    <tr>\n",
              "      <th>50%</th>\n",
              "      <td>385.500000</td>\n",
              "      <td>5614.500000</td>\n",
              "    </tr>\n",
              "    <tr>\n",
              "      <th>75%</th>\n",
              "      <td>899.500000</td>\n",
              "      <td>8662.500000</td>\n",
              "    </tr>\n",
              "    <tr>\n",
              "      <th>max</th>\n",
              "      <td>6907.000000</td>\n",
              "      <td>40827.000000</td>\n",
              "    </tr>\n",
              "    <tr>\n",
              "      <th rowspan=\"8\" valign=\"top\">Delicatessen</th>\n",
              "      <th>count</th>\n",
              "      <td>298.000000</td>\n",
              "      <td>142.000000</td>\n",
              "    </tr>\n",
              "    <tr>\n",
              "      <th>mean</th>\n",
              "      <td>1415.956376</td>\n",
              "      <td>1753.436620</td>\n",
              "    </tr>\n",
              "    <tr>\n",
              "      <th>std</th>\n",
              "      <td>3147.426922</td>\n",
              "      <td>1953.797047</td>\n",
              "    </tr>\n",
              "    <tr>\n",
              "      <th>min</th>\n",
              "      <td>3.000000</td>\n",
              "      <td>3.000000</td>\n",
              "    </tr>\n",
              "    <tr>\n",
              "      <th>25%</th>\n",
              "      <td>379.000000</td>\n",
              "      <td>566.750000</td>\n",
              "    </tr>\n",
              "    <tr>\n",
              "      <th>50%</th>\n",
              "      <td>821.000000</td>\n",
              "      <td>1350.000000</td>\n",
              "    </tr>\n",
              "    <tr>\n",
              "      <th>75%</th>\n",
              "      <td>1548.000000</td>\n",
              "      <td>2156.000000</td>\n",
              "    </tr>\n",
              "    <tr>\n",
              "      <th>max</th>\n",
              "      <td>47943.000000</td>\n",
              "      <td>16523.000000</td>\n",
              "    </tr>\n",
              "  </tbody>\n",
              "</table>\n",
              "</div>\n",
              "      <button class=\"colab-df-convert\" onclick=\"convertToInteractive('df-066d5021-d403-43c2-9fe0-152e787d4a28')\"\n",
              "              title=\"Convert this dataframe to an interactive table.\"\n",
              "              style=\"display:none;\">\n",
              "        \n",
              "  <svg xmlns=\"http://www.w3.org/2000/svg\" height=\"24px\"viewBox=\"0 0 24 24\"\n",
              "       width=\"24px\">\n",
              "    <path d=\"M0 0h24v24H0V0z\" fill=\"none\"/>\n",
              "    <path d=\"M18.56 5.44l.94 2.06.94-2.06 2.06-.94-2.06-.94-.94-2.06-.94 2.06-2.06.94zm-11 1L8.5 8.5l.94-2.06 2.06-.94-2.06-.94L8.5 2.5l-.94 2.06-2.06.94zm10 10l.94 2.06.94-2.06 2.06-.94-2.06-.94-.94-2.06-.94 2.06-2.06.94z\"/><path d=\"M17.41 7.96l-1.37-1.37c-.4-.4-.92-.59-1.43-.59-.52 0-1.04.2-1.43.59L10.3 9.45l-7.72 7.72c-.78.78-.78 2.05 0 2.83L4 21.41c.39.39.9.59 1.41.59.51 0 1.02-.2 1.41-.59l7.78-7.78 2.81-2.81c.8-.78.8-2.07 0-2.86zM5.41 20L4 18.59l7.72-7.72 1.47 1.35L5.41 20z\"/>\n",
              "  </svg>\n",
              "      </button>\n",
              "      \n",
              "  <style>\n",
              "    .colab-df-container {\n",
              "      display:flex;\n",
              "      flex-wrap:wrap;\n",
              "      gap: 12px;\n",
              "    }\n",
              "\n",
              "    .colab-df-convert {\n",
              "      background-color: #E8F0FE;\n",
              "      border: none;\n",
              "      border-radius: 50%;\n",
              "      cursor: pointer;\n",
              "      display: none;\n",
              "      fill: #1967D2;\n",
              "      height: 32px;\n",
              "      padding: 0 0 0 0;\n",
              "      width: 32px;\n",
              "    }\n",
              "\n",
              "    .colab-df-convert:hover {\n",
              "      background-color: #E2EBFA;\n",
              "      box-shadow: 0px 1px 2px rgba(60, 64, 67, 0.3), 0px 1px 3px 1px rgba(60, 64, 67, 0.15);\n",
              "      fill: #174EA6;\n",
              "    }\n",
              "\n",
              "    [theme=dark] .colab-df-convert {\n",
              "      background-color: #3B4455;\n",
              "      fill: #D2E3FC;\n",
              "    }\n",
              "\n",
              "    [theme=dark] .colab-df-convert:hover {\n",
              "      background-color: #434B5C;\n",
              "      box-shadow: 0px 1px 3px 1px rgba(0, 0, 0, 0.15);\n",
              "      filter: drop-shadow(0px 1px 2px rgba(0, 0, 0, 0.3));\n",
              "      fill: #FFFFFF;\n",
              "    }\n",
              "  </style>\n",
              "\n",
              "      <script>\n",
              "        const buttonEl =\n",
              "          document.querySelector('#df-066d5021-d403-43c2-9fe0-152e787d4a28 button.colab-df-convert');\n",
              "        buttonEl.style.display =\n",
              "          google.colab.kernel.accessAllowed ? 'block' : 'none';\n",
              "\n",
              "        async function convertToInteractive(key) {\n",
              "          const element = document.querySelector('#df-066d5021-d403-43c2-9fe0-152e787d4a28');\n",
              "          const dataTable =\n",
              "            await google.colab.kernel.invokeFunction('convertToInteractive',\n",
              "                                                     [key], {});\n",
              "          if (!dataTable) return;\n",
              "\n",
              "          const docLinkHtml = 'Like what you see? Visit the ' +\n",
              "            '<a target=\"_blank\" href=https://colab.research.google.com/notebooks/data_table.ipynb>data table notebook</a>'\n",
              "            + ' to learn more about interactive tables.';\n",
              "          element.innerHTML = '';\n",
              "          dataTable['output_type'] = 'display_data';\n",
              "          await google.colab.output.renderOutput(dataTable, element);\n",
              "          const docLink = document.createElement('div');\n",
              "          docLink.innerHTML = docLinkHtml;\n",
              "          element.appendChild(docLink);\n",
              "        }\n",
              "      </script>\n",
              "    </div>\n",
              "  </div>\n",
              "  "
            ]
          },
          "metadata": {},
          "execution_count": 8
        }
      ]
    },
    {
      "cell_type": "markdown",
      "source": [
        "###From the above table we can see that there are total 440 counts or 440 entries. In the 'Channel' column there are 2 unique categories. Out of these two 'Hotel' is the top category and the number of entries of the 'Hotel' category is 298.\n",
        "###There are 6 varieties of products i.e, Fresh, Milk, Grocery, Frozen, Detergents_Paper, Delicatessen. Among these, on an average Fresh has the highest annual spending and Delicatessen has the lowest annual spending."
      ],
      "metadata": {
        "id": "38EhArJ9ssN3"
      }
    },
    {
      "cell_type": "code",
      "source": [
        "CustomerData.groupby(['Region']).describe().T"
      ],
      "metadata": {
        "colab": {
          "base_uri": "https://localhost:8080/",
          "height": 1000
        },
        "id": "kvp7W5qpss33",
        "outputId": "ad3579e5-d931-48ff-b35d-66cf66024d9f"
      },
      "execution_count": 9,
      "outputs": [
        {
          "output_type": "execute_result",
          "data": {
            "text/plain": [
              "Region                        Lisbon        Oporto          Other\n",
              "Buyer/Spender    count     77.000000     47.000000     316.000000\n",
              "                 mean     235.000000    317.000000     202.613924\n",
              "                 std       22.371857     13.711309     143.615303\n",
              "                 min      197.000000    294.000000       1.000000\n",
              "                 25%      216.000000    305.500000      79.750000\n",
              "                 50%      235.000000    317.000000     158.500000\n",
              "                 75%      254.000000    328.500000     361.250000\n",
              "                 max      273.000000    340.000000     440.000000\n",
              "Fresh            count     77.000000     47.000000     316.000000\n",
              "                 mean   11101.727273   9887.680851   12533.471519\n",
              "                 std    11557.438575   8387.899211   13389.213115\n",
              "                 min       18.000000      3.000000       3.000000\n",
              "                 25%     2806.000000   2751.500000    3350.750000\n",
              "                 50%     7363.000000   8090.000000    8752.500000\n",
              "                 75%    15218.000000  14925.500000   17406.500000\n",
              "                 max    56083.000000  32717.000000  112151.000000\n",
              "Milk             count     77.000000     47.000000     316.000000\n",
              "                 mean    5486.415584   5088.170213    5977.085443\n",
              "                 std     5704.856079   5826.343145    7935.463443\n",
              "                 min      258.000000    333.000000      55.000000\n",
              "                 25%     1372.000000   1430.500000    1634.000000\n",
              "                 50%     3748.000000   2374.000000    3684.500000\n",
              "                 75%     7503.000000   5772.500000    7198.750000\n",
              "                 max    28326.000000  25071.000000   73498.000000\n",
              "Grocery          count     77.000000     47.000000     316.000000\n",
              "                 mean    7403.077922   9218.595745    7896.363924\n",
              "                 std     8496.287728  10842.745314    9537.287778\n",
              "                 min      489.000000   1330.000000       3.000000\n",
              "                 25%     2046.000000   2792.500000    2141.500000\n",
              "                 50%     3838.000000   6114.000000    4732.000000\n",
              "                 75%     9490.000000  11758.500000   10559.750000\n",
              "                 max    39694.000000  67298.000000   92780.000000\n",
              "Frozen           count     77.000000     47.000000     316.000000\n",
              "                 mean    3000.337662   4045.361702    2944.594937\n",
              "                 std     3092.143894   9151.784954    4260.126243\n",
              "                 min       61.000000    131.000000      25.000000\n",
              "                 25%      950.000000    811.500000     664.750000\n",
              "                 50%     1801.000000   1455.000000    1498.000000\n",
              "                 75%     4324.000000   3272.000000    3354.750000\n",
              "                 max    18711.000000  60869.000000   36534.000000\n",
              "Detergents_Paper count     77.000000     47.000000     316.000000\n",
              "                 mean    2651.116883   3687.468085    2817.753165\n",
              "                 std     4208.462708   6514.717668    4593.051613\n",
              "                 min        5.000000     15.000000       3.000000\n",
              "                 25%      284.000000    282.500000     251.250000\n",
              "                 50%      737.000000    811.000000     856.000000\n",
              "                 75%     3593.000000   4324.500000    3875.750000\n",
              "                 max    19410.000000  38102.000000   40827.000000\n",
              "Delicatessen     count     77.000000     47.000000     316.000000\n",
              "                 mean    1354.896104   1159.702128    1620.601266\n",
              "                 std     1345.423340   1050.739841    3232.581660\n",
              "                 min        7.000000     51.000000       3.000000\n",
              "                 25%      548.000000    540.500000     402.000000\n",
              "                 50%      806.000000    898.000000     994.000000\n",
              "                 75%     1775.000000   1538.500000    1832.750000\n",
              "                 max     6854.000000   5609.000000   47943.000000"
            ],
            "text/html": [
              "\n",
              "  <div id=\"df-711fa055-996a-4c18-ab29-54f55a86f1d8\">\n",
              "    <div class=\"colab-df-container\">\n",
              "      <div>\n",
              "<style scoped>\n",
              "    .dataframe tbody tr th:only-of-type {\n",
              "        vertical-align: middle;\n",
              "    }\n",
              "\n",
              "    .dataframe tbody tr th {\n",
              "        vertical-align: top;\n",
              "    }\n",
              "\n",
              "    .dataframe thead th {\n",
              "        text-align: right;\n",
              "    }\n",
              "</style>\n",
              "<table border=\"1\" class=\"dataframe\">\n",
              "  <thead>\n",
              "    <tr style=\"text-align: right;\">\n",
              "      <th></th>\n",
              "      <th>Region</th>\n",
              "      <th>Lisbon</th>\n",
              "      <th>Oporto</th>\n",
              "      <th>Other</th>\n",
              "    </tr>\n",
              "  </thead>\n",
              "  <tbody>\n",
              "    <tr>\n",
              "      <th rowspan=\"8\" valign=\"top\">Buyer/Spender</th>\n",
              "      <th>count</th>\n",
              "      <td>77.000000</td>\n",
              "      <td>47.000000</td>\n",
              "      <td>316.000000</td>\n",
              "    </tr>\n",
              "    <tr>\n",
              "      <th>mean</th>\n",
              "      <td>235.000000</td>\n",
              "      <td>317.000000</td>\n",
              "      <td>202.613924</td>\n",
              "    </tr>\n",
              "    <tr>\n",
              "      <th>std</th>\n",
              "      <td>22.371857</td>\n",
              "      <td>13.711309</td>\n",
              "      <td>143.615303</td>\n",
              "    </tr>\n",
              "    <tr>\n",
              "      <th>min</th>\n",
              "      <td>197.000000</td>\n",
              "      <td>294.000000</td>\n",
              "      <td>1.000000</td>\n",
              "    </tr>\n",
              "    <tr>\n",
              "      <th>25%</th>\n",
              "      <td>216.000000</td>\n",
              "      <td>305.500000</td>\n",
              "      <td>79.750000</td>\n",
              "    </tr>\n",
              "    <tr>\n",
              "      <th>50%</th>\n",
              "      <td>235.000000</td>\n",
              "      <td>317.000000</td>\n",
              "      <td>158.500000</td>\n",
              "    </tr>\n",
              "    <tr>\n",
              "      <th>75%</th>\n",
              "      <td>254.000000</td>\n",
              "      <td>328.500000</td>\n",
              "      <td>361.250000</td>\n",
              "    </tr>\n",
              "    <tr>\n",
              "      <th>max</th>\n",
              "      <td>273.000000</td>\n",
              "      <td>340.000000</td>\n",
              "      <td>440.000000</td>\n",
              "    </tr>\n",
              "    <tr>\n",
              "      <th rowspan=\"8\" valign=\"top\">Fresh</th>\n",
              "      <th>count</th>\n",
              "      <td>77.000000</td>\n",
              "      <td>47.000000</td>\n",
              "      <td>316.000000</td>\n",
              "    </tr>\n",
              "    <tr>\n",
              "      <th>mean</th>\n",
              "      <td>11101.727273</td>\n",
              "      <td>9887.680851</td>\n",
              "      <td>12533.471519</td>\n",
              "    </tr>\n",
              "    <tr>\n",
              "      <th>std</th>\n",
              "      <td>11557.438575</td>\n",
              "      <td>8387.899211</td>\n",
              "      <td>13389.213115</td>\n",
              "    </tr>\n",
              "    <tr>\n",
              "      <th>min</th>\n",
              "      <td>18.000000</td>\n",
              "      <td>3.000000</td>\n",
              "      <td>3.000000</td>\n",
              "    </tr>\n",
              "    <tr>\n",
              "      <th>25%</th>\n",
              "      <td>2806.000000</td>\n",
              "      <td>2751.500000</td>\n",
              "      <td>3350.750000</td>\n",
              "    </tr>\n",
              "    <tr>\n",
              "      <th>50%</th>\n",
              "      <td>7363.000000</td>\n",
              "      <td>8090.000000</td>\n",
              "      <td>8752.500000</td>\n",
              "    </tr>\n",
              "    <tr>\n",
              "      <th>75%</th>\n",
              "      <td>15218.000000</td>\n",
              "      <td>14925.500000</td>\n",
              "      <td>17406.500000</td>\n",
              "    </tr>\n",
              "    <tr>\n",
              "      <th>max</th>\n",
              "      <td>56083.000000</td>\n",
              "      <td>32717.000000</td>\n",
              "      <td>112151.000000</td>\n",
              "    </tr>\n",
              "    <tr>\n",
              "      <th rowspan=\"8\" valign=\"top\">Milk</th>\n",
              "      <th>count</th>\n",
              "      <td>77.000000</td>\n",
              "      <td>47.000000</td>\n",
              "      <td>316.000000</td>\n",
              "    </tr>\n",
              "    <tr>\n",
              "      <th>mean</th>\n",
              "      <td>5486.415584</td>\n",
              "      <td>5088.170213</td>\n",
              "      <td>5977.085443</td>\n",
              "    </tr>\n",
              "    <tr>\n",
              "      <th>std</th>\n",
              "      <td>5704.856079</td>\n",
              "      <td>5826.343145</td>\n",
              "      <td>7935.463443</td>\n",
              "    </tr>\n",
              "    <tr>\n",
              "      <th>min</th>\n",
              "      <td>258.000000</td>\n",
              "      <td>333.000000</td>\n",
              "      <td>55.000000</td>\n",
              "    </tr>\n",
              "    <tr>\n",
              "      <th>25%</th>\n",
              "      <td>1372.000000</td>\n",
              "      <td>1430.500000</td>\n",
              "      <td>1634.000000</td>\n",
              "    </tr>\n",
              "    <tr>\n",
              "      <th>50%</th>\n",
              "      <td>3748.000000</td>\n",
              "      <td>2374.000000</td>\n",
              "      <td>3684.500000</td>\n",
              "    </tr>\n",
              "    <tr>\n",
              "      <th>75%</th>\n",
              "      <td>7503.000000</td>\n",
              "      <td>5772.500000</td>\n",
              "      <td>7198.750000</td>\n",
              "    </tr>\n",
              "    <tr>\n",
              "      <th>max</th>\n",
              "      <td>28326.000000</td>\n",
              "      <td>25071.000000</td>\n",
              "      <td>73498.000000</td>\n",
              "    </tr>\n",
              "    <tr>\n",
              "      <th rowspan=\"8\" valign=\"top\">Grocery</th>\n",
              "      <th>count</th>\n",
              "      <td>77.000000</td>\n",
              "      <td>47.000000</td>\n",
              "      <td>316.000000</td>\n",
              "    </tr>\n",
              "    <tr>\n",
              "      <th>mean</th>\n",
              "      <td>7403.077922</td>\n",
              "      <td>9218.595745</td>\n",
              "      <td>7896.363924</td>\n",
              "    </tr>\n",
              "    <tr>\n",
              "      <th>std</th>\n",
              "      <td>8496.287728</td>\n",
              "      <td>10842.745314</td>\n",
              "      <td>9537.287778</td>\n",
              "    </tr>\n",
              "    <tr>\n",
              "      <th>min</th>\n",
              "      <td>489.000000</td>\n",
              "      <td>1330.000000</td>\n",
              "      <td>3.000000</td>\n",
              "    </tr>\n",
              "    <tr>\n",
              "      <th>25%</th>\n",
              "      <td>2046.000000</td>\n",
              "      <td>2792.500000</td>\n",
              "      <td>2141.500000</td>\n",
              "    </tr>\n",
              "    <tr>\n",
              "      <th>50%</th>\n",
              "      <td>3838.000000</td>\n",
              "      <td>6114.000000</td>\n",
              "      <td>4732.000000</td>\n",
              "    </tr>\n",
              "    <tr>\n",
              "      <th>75%</th>\n",
              "      <td>9490.000000</td>\n",
              "      <td>11758.500000</td>\n",
              "      <td>10559.750000</td>\n",
              "    </tr>\n",
              "    <tr>\n",
              "      <th>max</th>\n",
              "      <td>39694.000000</td>\n",
              "      <td>67298.000000</td>\n",
              "      <td>92780.000000</td>\n",
              "    </tr>\n",
              "    <tr>\n",
              "      <th rowspan=\"8\" valign=\"top\">Frozen</th>\n",
              "      <th>count</th>\n",
              "      <td>77.000000</td>\n",
              "      <td>47.000000</td>\n",
              "      <td>316.000000</td>\n",
              "    </tr>\n",
              "    <tr>\n",
              "      <th>mean</th>\n",
              "      <td>3000.337662</td>\n",
              "      <td>4045.361702</td>\n",
              "      <td>2944.594937</td>\n",
              "    </tr>\n",
              "    <tr>\n",
              "      <th>std</th>\n",
              "      <td>3092.143894</td>\n",
              "      <td>9151.784954</td>\n",
              "      <td>4260.126243</td>\n",
              "    </tr>\n",
              "    <tr>\n",
              "      <th>min</th>\n",
              "      <td>61.000000</td>\n",
              "      <td>131.000000</td>\n",
              "      <td>25.000000</td>\n",
              "    </tr>\n",
              "    <tr>\n",
              "      <th>25%</th>\n",
              "      <td>950.000000</td>\n",
              "      <td>811.500000</td>\n",
              "      <td>664.750000</td>\n",
              "    </tr>\n",
              "    <tr>\n",
              "      <th>50%</th>\n",
              "      <td>1801.000000</td>\n",
              "      <td>1455.000000</td>\n",
              "      <td>1498.000000</td>\n",
              "    </tr>\n",
              "    <tr>\n",
              "      <th>75%</th>\n",
              "      <td>4324.000000</td>\n",
              "      <td>3272.000000</td>\n",
              "      <td>3354.750000</td>\n",
              "    </tr>\n",
              "    <tr>\n",
              "      <th>max</th>\n",
              "      <td>18711.000000</td>\n",
              "      <td>60869.000000</td>\n",
              "      <td>36534.000000</td>\n",
              "    </tr>\n",
              "    <tr>\n",
              "      <th rowspan=\"8\" valign=\"top\">Detergents_Paper</th>\n",
              "      <th>count</th>\n",
              "      <td>77.000000</td>\n",
              "      <td>47.000000</td>\n",
              "      <td>316.000000</td>\n",
              "    </tr>\n",
              "    <tr>\n",
              "      <th>mean</th>\n",
              "      <td>2651.116883</td>\n",
              "      <td>3687.468085</td>\n",
              "      <td>2817.753165</td>\n",
              "    </tr>\n",
              "    <tr>\n",
              "      <th>std</th>\n",
              "      <td>4208.462708</td>\n",
              "      <td>6514.717668</td>\n",
              "      <td>4593.051613</td>\n",
              "    </tr>\n",
              "    <tr>\n",
              "      <th>min</th>\n",
              "      <td>5.000000</td>\n",
              "      <td>15.000000</td>\n",
              "      <td>3.000000</td>\n",
              "    </tr>\n",
              "    <tr>\n",
              "      <th>25%</th>\n",
              "      <td>284.000000</td>\n",
              "      <td>282.500000</td>\n",
              "      <td>251.250000</td>\n",
              "    </tr>\n",
              "    <tr>\n",
              "      <th>50%</th>\n",
              "      <td>737.000000</td>\n",
              "      <td>811.000000</td>\n",
              "      <td>856.000000</td>\n",
              "    </tr>\n",
              "    <tr>\n",
              "      <th>75%</th>\n",
              "      <td>3593.000000</td>\n",
              "      <td>4324.500000</td>\n",
              "      <td>3875.750000</td>\n",
              "    </tr>\n",
              "    <tr>\n",
              "      <th>max</th>\n",
              "      <td>19410.000000</td>\n",
              "      <td>38102.000000</td>\n",
              "      <td>40827.000000</td>\n",
              "    </tr>\n",
              "    <tr>\n",
              "      <th rowspan=\"8\" valign=\"top\">Delicatessen</th>\n",
              "      <th>count</th>\n",
              "      <td>77.000000</td>\n",
              "      <td>47.000000</td>\n",
              "      <td>316.000000</td>\n",
              "    </tr>\n",
              "    <tr>\n",
              "      <th>mean</th>\n",
              "      <td>1354.896104</td>\n",
              "      <td>1159.702128</td>\n",
              "      <td>1620.601266</td>\n",
              "    </tr>\n",
              "    <tr>\n",
              "      <th>std</th>\n",
              "      <td>1345.423340</td>\n",
              "      <td>1050.739841</td>\n",
              "      <td>3232.581660</td>\n",
              "    </tr>\n",
              "    <tr>\n",
              "      <th>min</th>\n",
              "      <td>7.000000</td>\n",
              "      <td>51.000000</td>\n",
              "      <td>3.000000</td>\n",
              "    </tr>\n",
              "    <tr>\n",
              "      <th>25%</th>\n",
              "      <td>548.000000</td>\n",
              "      <td>540.500000</td>\n",
              "      <td>402.000000</td>\n",
              "    </tr>\n",
              "    <tr>\n",
              "      <th>50%</th>\n",
              "      <td>806.000000</td>\n",
              "      <td>898.000000</td>\n",
              "      <td>994.000000</td>\n",
              "    </tr>\n",
              "    <tr>\n",
              "      <th>75%</th>\n",
              "      <td>1775.000000</td>\n",
              "      <td>1538.500000</td>\n",
              "      <td>1832.750000</td>\n",
              "    </tr>\n",
              "    <tr>\n",
              "      <th>max</th>\n",
              "      <td>6854.000000</td>\n",
              "      <td>5609.000000</td>\n",
              "      <td>47943.000000</td>\n",
              "    </tr>\n",
              "  </tbody>\n",
              "</table>\n",
              "</div>\n",
              "      <button class=\"colab-df-convert\" onclick=\"convertToInteractive('df-711fa055-996a-4c18-ab29-54f55a86f1d8')\"\n",
              "              title=\"Convert this dataframe to an interactive table.\"\n",
              "              style=\"display:none;\">\n",
              "        \n",
              "  <svg xmlns=\"http://www.w3.org/2000/svg\" height=\"24px\"viewBox=\"0 0 24 24\"\n",
              "       width=\"24px\">\n",
              "    <path d=\"M0 0h24v24H0V0z\" fill=\"none\"/>\n",
              "    <path d=\"M18.56 5.44l.94 2.06.94-2.06 2.06-.94-2.06-.94-.94-2.06-.94 2.06-2.06.94zm-11 1L8.5 8.5l.94-2.06 2.06-.94-2.06-.94L8.5 2.5l-.94 2.06-2.06.94zm10 10l.94 2.06.94-2.06 2.06-.94-2.06-.94-.94-2.06-.94 2.06-2.06.94z\"/><path d=\"M17.41 7.96l-1.37-1.37c-.4-.4-.92-.59-1.43-.59-.52 0-1.04.2-1.43.59L10.3 9.45l-7.72 7.72c-.78.78-.78 2.05 0 2.83L4 21.41c.39.39.9.59 1.41.59.51 0 1.02-.2 1.41-.59l7.78-7.78 2.81-2.81c.8-.78.8-2.07 0-2.86zM5.41 20L4 18.59l7.72-7.72 1.47 1.35L5.41 20z\"/>\n",
              "  </svg>\n",
              "      </button>\n",
              "      \n",
              "  <style>\n",
              "    .colab-df-container {\n",
              "      display:flex;\n",
              "      flex-wrap:wrap;\n",
              "      gap: 12px;\n",
              "    }\n",
              "\n",
              "    .colab-df-convert {\n",
              "      background-color: #E8F0FE;\n",
              "      border: none;\n",
              "      border-radius: 50%;\n",
              "      cursor: pointer;\n",
              "      display: none;\n",
              "      fill: #1967D2;\n",
              "      height: 32px;\n",
              "      padding: 0 0 0 0;\n",
              "      width: 32px;\n",
              "    }\n",
              "\n",
              "    .colab-df-convert:hover {\n",
              "      background-color: #E2EBFA;\n",
              "      box-shadow: 0px 1px 2px rgba(60, 64, 67, 0.3), 0px 1px 3px 1px rgba(60, 64, 67, 0.15);\n",
              "      fill: #174EA6;\n",
              "    }\n",
              "\n",
              "    [theme=dark] .colab-df-convert {\n",
              "      background-color: #3B4455;\n",
              "      fill: #D2E3FC;\n",
              "    }\n",
              "\n",
              "    [theme=dark] .colab-df-convert:hover {\n",
              "      background-color: #434B5C;\n",
              "      box-shadow: 0px 1px 3px 1px rgba(0, 0, 0, 0.15);\n",
              "      filter: drop-shadow(0px 1px 2px rgba(0, 0, 0, 0.3));\n",
              "      fill: #FFFFFF;\n",
              "    }\n",
              "  </style>\n",
              "\n",
              "      <script>\n",
              "        const buttonEl =\n",
              "          document.querySelector('#df-711fa055-996a-4c18-ab29-54f55a86f1d8 button.colab-df-convert');\n",
              "        buttonEl.style.display =\n",
              "          google.colab.kernel.accessAllowed ? 'block' : 'none';\n",
              "\n",
              "        async function convertToInteractive(key) {\n",
              "          const element = document.querySelector('#df-711fa055-996a-4c18-ab29-54f55a86f1d8');\n",
              "          const dataTable =\n",
              "            await google.colab.kernel.invokeFunction('convertToInteractive',\n",
              "                                                     [key], {});\n",
              "          if (!dataTable) return;\n",
              "\n",
              "          const docLinkHtml = 'Like what you see? Visit the ' +\n",
              "            '<a target=\"_blank\" href=https://colab.research.google.com/notebooks/data_table.ipynb>data table notebook</a>'\n",
              "            + ' to learn more about interactive tables.';\n",
              "          element.innerHTML = '';\n",
              "          dataTable['output_type'] = 'display_data';\n",
              "          await google.colab.output.renderOutput(dataTable, element);\n",
              "          const docLink = document.createElement('div');\n",
              "          docLink.innerHTML = docLinkHtml;\n",
              "          element.appendChild(docLink);\n",
              "        }\n",
              "      </script>\n",
              "    </div>\n",
              "  </div>\n",
              "  "
            ]
          },
          "metadata": {},
          "execution_count": 9
        }
      ]
    },
    {
      "cell_type": "markdown",
      "source": [
        "###From the above table we can see that there are total 440 counts or 440 entries. In the 'Region' column there are 3 unique categories in total. Among them the top category is 'Other'. And the number of entries of the 'Other' category is 316. The number of entries is denoted by 'freq' in the above table. And to find the top category I have checked the 'top' option in the first column.\n",
        "###There are 6 varieties of products i.e, Fresh, Milk, Grocery, Frozen, Detergents_Paper, Delicatessen. Among these, on an average Fresh has the highest annual spending and Delicatessen has the lowest annual spending."
      ],
      "metadata": {
        "id": "lVT75sm1susX"
      }
    },
    {
      "cell_type": "markdown",
      "source": [
        "##Ans 1.3"
      ],
      "metadata": {
        "id": "-9vVfBYKs0mw"
      }
    },
    {
      "cell_type": "code",
      "source": [
        "#Calculating Coefficient of Variation for each products\n",
        "CoV_Fresh= (12647.328865/12000.297727)\n",
        "CoV_Fresh"
      ],
      "metadata": {
        "colab": {
          "base_uri": "https://localhost:8080/"
        },
        "id": "umNVj9rXsyiD",
        "outputId": "f4ecd378-d199-402d-aef7-0b9f3b01e39c"
      },
      "execution_count": 10,
      "outputs": [
        {
          "output_type": "execute_result",
          "data": {
            "text/plain": [
              "1.0539179237648593"
            ]
          },
          "metadata": {},
          "execution_count": 10
        }
      ]
    },
    {
      "cell_type": "code",
      "source": [
        "CoV_Milk= (7380.377175/5796.265909)\n",
        "CoV_Milk"
      ],
      "metadata": {
        "colab": {
          "base_uri": "https://localhost:8080/"
        },
        "id": "oGzjYcXcs2yU",
        "outputId": "302dd024-92be-4093-9389-f24c9b1a596e"
      },
      "execution_count": 11,
      "outputs": [
        {
          "output_type": "execute_result",
          "data": {
            "text/plain": [
              "1.2732985841005522"
            ]
          },
          "metadata": {},
          "execution_count": 11
        }
      ]
    },
    {
      "cell_type": "code",
      "source": [
        "CoV_Grocery= (9503.162829/7951.277273)\n",
        "CoV_Grocery"
      ],
      "metadata": {
        "colab": {
          "base_uri": "https://localhost:8080/"
        },
        "id": "vJNnERFWs26r",
        "outputId": "cc80d447-7100-4669-b395-3bf34339c1ba"
      },
      "execution_count": 12,
      "outputs": [
        {
          "output_type": "execute_result",
          "data": {
            "text/plain": [
              "1.1951743729613995"
            ]
          },
          "metadata": {},
          "execution_count": 12
        }
      ]
    },
    {
      "cell_type": "code",
      "source": [
        "CoV_Frozen= (4854.673333/3071.931818)\n",
        "CoV_Frozen"
      ],
      "metadata": {
        "colab": {
          "base_uri": "https://localhost:8080/"
        },
        "id": "Ny5AGX0ts2-D",
        "outputId": "e2cc7cf9-1f83-4b99-9454-bf10f02e968d"
      },
      "execution_count": 13,
      "outputs": [
        {
          "output_type": "execute_result",
          "data": {
            "text/plain": [
              "1.5803323838615222"
            ]
          },
          "metadata": {},
          "execution_count": 13
        }
      ]
    },
    {
      "cell_type": "code",
      "source": [
        "CoV_Detergents_Paper= (4767.854448/2881.493182)\n",
        "CoV_Detergents_Paper"
      ],
      "metadata": {
        "colab": {
          "base_uri": "https://localhost:8080/"
        },
        "id": "QpHiYaOVs3BL",
        "outputId": "a9c44a03-77a9-46a7-f7ed-709d733997fa"
      },
      "execution_count": 14,
      "outputs": [
        {
          "output_type": "execute_result",
          "data": {
            "text/plain": [
              "1.6546471384293562"
            ]
          },
          "metadata": {},
          "execution_count": 14
        }
      ]
    },
    {
      "cell_type": "code",
      "source": [
        "CoV_Delicatessen= (2820.105937/1524.870455)\n",
        "CoV_Delicatessen"
      ],
      "metadata": {
        "colab": {
          "base_uri": "https://localhost:8080/"
        },
        "id": "zb0HWLYEs3EF",
        "outputId": "2b178ee8-7624-418d-8676-0194524b34b3"
      },
      "execution_count": 15,
      "outputs": [
        {
          "output_type": "execute_result",
          "data": {
            "text/plain": [
              "1.849406897322304"
            ]
          },
          "metadata": {},
          "execution_count": 15
        }
      ]
    },
    {
      "cell_type": "markdown",
      "source": [
        "###From the above calculations I can see that among the six items Delicatessen shows the most inconsistent behavior and Fresh shows the least inconsistent behavior."
      ],
      "metadata": {
        "id": "mYIrSWbwtBmB"
      }
    },
    {
      "cell_type": "markdown",
      "source": [
        "##Ans 1.4"
      ],
      "metadata": {
        "id": "m-020IFRtDoG"
      }
    },
    {
      "cell_type": "code",
      "source": [
        "plt.title('Boxplot:Buyer/Spender')\n",
        "plt.xlim(10,1000)\n",
        "plt.xlabel('Buyer/Spender')\n",
        "sns.axes_style('whitegrid')\n",
        "sns.boxplot(data=CustomerData, x=\"Buyer/Spender\",color= 'green');"
      ],
      "metadata": {
        "colab": {
          "base_uri": "https://localhost:8080/",
          "height": 295
        },
        "id": "N7w8TgKPs3Hm",
        "outputId": "ce4caed6-b12a-43e8-96b6-6a6f83c9382e"
      },
      "execution_count": 16,
      "outputs": [
        {
          "output_type": "display_data",
          "data": {
            "text/plain": [
              "<Figure size 432x288 with 1 Axes>"
            ],
            "image/png": "[encoded data removed]"
          },
          "metadata": {
            "needs_background": "light"
          }
        }
      ]
    },
    {
      "cell_type": "code",
      "source": [
        "plt.title('Boxplot:Fresh')\n",
        "plt.xlim(100,100000)\n",
        "plt.xlabel('Fresh')\n",
        "sns.axes_style('whitegrid')\n",
        "sns.boxplot(data=CustomerData, x=\"Fresh\",color= 'red');"
      ],
      "metadata": {
        "colab": {
          "base_uri": "https://localhost:8080/",
          "height": 295
        },
        "id": "G03zpU6ytHeX",
        "outputId": "54a2ffbc-3628-4555-8df0-2301f1e5266d"
      },
      "execution_count": 17,
      "outputs": [
        {
          "output_type": "display_data",
          "data": {
            "text/plain": [
              "<Figure size 432x288 with 1 Axes>"
            ],
            "image/png": "[encoded data removed]"
          },
          "metadata": {
            "needs_background": "light"
          }
        }
      ]
    },
    {
      "cell_type": "code",
      "source": [
        "plt.title('Boxplot:Milk')\n",
        "plt.xlim(100,100000)\n",
        "plt.xlabel('Milk')\n",
        "sns.axes_style('whitegrid')\n",
        "sns.boxplot(data=CustomerData, x=\"Milk\",color= 'blue');"
      ],
      "metadata": {
        "colab": {
          "base_uri": "https://localhost:8080/",
          "height": 295
        },
        "id": "u-A8zC5Ws3K8",
        "outputId": "a461622e-efb8-4bb6-a882-7692a37235a4"
      },
      "execution_count": 18,
      "outputs": [
        {
          "output_type": "display_data",
          "data": {
            "text/plain": [
              "<Figure size 432x288 with 1 Axes>"
            ],
            "image/png": "[encoded data removed]"
          },
          "metadata": {
            "needs_background": "light"
          }
        }
      ]
    },
    {
      "cell_type": "code",
      "source": [
        "plt.title('Boxplot:Grocery')\n",
        "plt.xlim(100,100000)\n",
        "plt.xlabel('Grocery')\n",
        "sns.axes_style('whitegrid')\n",
        "sns.boxplot(data=CustomerData, x=\"Grocery\",color= 'orange');"
      ],
      "metadata": {
        "colab": {
          "base_uri": "https://localhost:8080/",
          "height": 295
        },
        "id": "xwyqUV_otJbc",
        "outputId": "79acc6a9-de00-4ae9-ada8-2b00bcacf0a8"
      },
      "execution_count": 19,
      "outputs": [
        {
          "output_type": "display_data",
          "data": {
            "text/plain": [
              "<Figure size 432x288 with 1 Axes>"
            ],
            "image/png": "[encoded data removed]"
          },
          "metadata": {
            "needs_background": "light"
          }
        }
      ]
    },
    {
      "cell_type": "code",
      "source": [
        "plt.title('Boxplot:Frozen')\n",
        "plt.xlim(100,100000)\n",
        "plt.xlabel('Frozen')\n",
        "sns.axes_style('whitegrid')\n",
        "sns.boxplot(data=CustomerData, x=\"Frozen\",color= 'yellow');"
      ],
      "metadata": {
        "colab": {
          "base_uri": "https://localhost:8080/",
          "height": 295
        },
        "id": "gzDFU-eAtJfh",
        "outputId": "2b59d38c-3677-4017-82af-7bac4ceaa0dd"
      },
      "execution_count": 20,
      "outputs": [
        {
          "output_type": "display_data",
          "data": {
            "text/plain": [
              "<Figure size 432x288 with 1 Axes>"
            ],
            "image/png": "[encoded data removed]"
          },
          "metadata": {
            "needs_background": "light"
          }
        }
      ]
    },
    {
      "cell_type": "code",
      "source": [
        "plt.title('Boxplot:Detergents_Paper')\n",
        "plt.xlim(100,100000)\n",
        "plt.xlabel('Detergents_Paper')\n",
        "sns.axes_style('whitegrid')\n",
        "sns.boxplot(data=CustomerData, x=\"Detergents_Paper\",color= 'maroon');"
      ],
      "metadata": {
        "colab": {
          "base_uri": "https://localhost:8080/",
          "height": 296
        },
        "id": "vjiKy7OdtPL-",
        "outputId": "d7e77023-461f-4078-bde7-349d985c1b1a"
      },
      "execution_count": 21,
      "outputs": [
        {
          "output_type": "display_data",
          "data": {
            "text/plain": [
              "<Figure size 432x288 with 1 Axes>"
            ],
            "image/png": "[encoded data removed]"
          },
          "metadata": {
            "needs_background": "light"
          }
        }
      ]
    },
    {
      "cell_type": "code",
      "source": [
        "plt.title('Boxplot:Delicatessen')\n",
        "plt.xlim(100,100000)\n",
        "plt.xlabel('Delicatessen')\n",
        "sns.axes_style('whitegrid')\n",
        "sns.boxplot(data=CustomerData, x=\"Delicatessen\",color= 'purple');"
      ],
      "metadata": {
        "colab": {
          "base_uri": "https://localhost:8080/",
          "height": 295
        },
        "id": "rEyGD4JntJkB",
        "outputId": "3d97d4f9-fdc3-40ab-e43a-a1568fcbd9a2"
      },
      "execution_count": 22,
      "outputs": [
        {
          "output_type": "display_data",
          "data": {
            "text/plain": [
              "<Figure size 432x288 with 1 Axes>"
            ],
            "image/png": "[encoded data removed]"
          },
          "metadata": {
            "needs_background": "light"
          }
        }
      ]
    },
    {
      "cell_type": "markdown",
      "source": [
        "###By using Boxplot I have shown the outliers in the data. In the Buyer/Spender section there is no outlier which is actually natural. Rather than this in the data of all six items there are many outliers."
      ],
      "metadata": {
        "id": "QdFDN_qQtWfF"
      }
    },
    {
      "cell_type": "markdown",
      "source": [
        "##Ans 1.5"
      ],
      "metadata": {
        "id": "6yEhc76wt5Mc"
      }
    },
    {
      "cell_type": "markdown",
      "source": [
        "###Till now I have analysed the data of Wholesome Customers and their spendings on six different items in three different regions in two different channels by using graphical presentations and different python codes. I can say here that among the six items the customers spended the most on 'Fresh' item and spended the least on 'Delicatessen' item.\n",
        "###Besides this, 'Delicatessen' and 'Frozen' these two items have the least variance that means there is less uncertainty. And 'Milk' item has the highest variance that means there is high certainty."
      ],
      "metadata": {
        "id": "-GoFZNhIt5ac"
      }
    }
  ]
}